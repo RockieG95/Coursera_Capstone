{
 "cells": [
  {
   "cell_type": "markdown",
   "id": "naked-writing",
   "metadata": {},
   "source": [
    "# Capstone Project - The Battle of Neighborhoods\n",
    "## Scenario: Brexit Relocation"
   ]
  },
  {
   "cell_type": "markdown",
   "id": "local-tourist",
   "metadata": {},
   "source": [
    "### Introduction"
   ]
  },
  {
   "cell_type": "markdown",
   "id": "sporting-exploration",
   "metadata": {},
   "source": [
    "In June 2016, the United Kingdom voted in a referendum to leave the European Union, which, as the details of the leaving process and future relationship got worked out, became bad news for financial services companies based in the UK as the trade agreement struck between the nation and the trading block has insufficient coverage for such companies to continue trading in the same way as they did before, leading to large shifts in capital and resources from the UK to the EU by companies in a move to ensure that access to the single market is not lost. <br><br>\n",
    "The client, a financial services company with a substantial portfolio of EU assets under management, currently has its European headquarters in London and due to regulatory and market pressures has already had to follow suit and shift its asset ownership to EU country-registered entities. However, the client does not have an EU-based office – the EU entities it owns are legal/paper entities only - and so we finally arrive at the question we need to answer, which is “where should they move to”? <br><br>\n",
    "This question, however, is too simple for its own good and as such requires discussion and breakdown. Following conversations with the client, the scope of what is to be delivered is as follows:<br><br>\n",
    "•\tThey want to be provided a list (and presentation) of good landing spots as opposed to just one, so that the board can put it to a vote and decide<br>\n",
    "•\tThey want as many staff to move with them as possible, and as such, candidate cities must be similar to London in both economic and cultural terms, and their distance to London must be considered as part of the exercise<br>\n",
    "•\tThe top 50 EU urban areas by population are to be evaluated, disqualifying any which do not contain an international airport with links to London or a stock exchange<br><br>\n",
    "As such, the chosen approach is a clustering model that will take in the requisite economic and cultural fit data and split the candidate cities (plus London) into groups, so that we can then extract the cities in the London cluster and present them as our list of viable options.\n"
   ]
  },
  {
   "cell_type": "markdown",
   "id": "sustainable-championship",
   "metadata": {},
   "source": [
    "### Data"
   ]
  },
  {
   "cell_type": "markdown",
   "id": "civilian-metallic",
   "metadata": {},
   "source": [
    "As discussed in the Introduction, the base data set to analyse is the top 50 EU urban areas by population, a list of which can be found <a href='https://en.wikipedia.org/wiki/List_of_urban_areas_in_the_European_Union'>here</a>, plus London for comparison purposes. Where an urban area contains multiple cities, it is disambiguated into its component cities, which are only retained if their individual population is higher than the 50th ranked city in our data set.\n",
    "This means the two composite areas on our list meet different fates - the Ruhr area, originally ranked 2nd, is disqualified (its largest city is Dortmund, which falls 140k short), and the only other composite urban area in the list, Rotterdam/The Hague, is split into two as both urban areas are comfortably in the top 50.<br>\n",
    "\n",
    "Before assembling any further data, we must evaluate the disqualifying criteria and discard any cities that, per the requirements, do not have either an international airport serving its urban area or house a stock exchange – this leaves us with 28 cities in our preliminary data set."
   ]
  },
  {
   "cell_type": "code",
   "execution_count": 8,
   "id": "looking-apparel",
   "metadata": {},
   "outputs": [
    {
     "data": {
      "text/html": [
       "<div>\n",
       "<style scoped>\n",
       "    .dataframe tbody tr th:only-of-type {\n",
       "        vertical-align: middle;\n",
       "    }\n",
       "\n",
       "    .dataframe tbody tr th {\n",
       "        vertical-align: top;\n",
       "    }\n",
       "\n",
       "    .dataframe thead th {\n",
       "        text-align: right;\n",
       "    }\n",
       "</style>\n",
       "<table border=\"1\" class=\"dataframe\">\n",
       "  <thead>\n",
       "    <tr style=\"text-align: right;\">\n",
       "      <th></th>\n",
       "      <th>UrbanArea</th>\n",
       "      <th>Population</th>\n",
       "      <th>Density</th>\n",
       "      <th>IntlAirport</th>\n",
       "      <th>StockExchange</th>\n",
       "    </tr>\n",
       "  </thead>\n",
       "  <tbody>\n",
       "    <tr>\n",
       "      <th>0</th>\n",
       "      <td>Paris</td>\n",
       "      <td>11020000</td>\n",
       "      <td>3800</td>\n",
       "      <td>Y</td>\n",
       "      <td>Y</td>\n",
       "    </tr>\n",
       "    <tr>\n",
       "      <th>1</th>\n",
       "      <td>Madrid</td>\n",
       "      <td>6026000</td>\n",
       "      <td>4600</td>\n",
       "      <td>Y</td>\n",
       "      <td>Y</td>\n",
       "    </tr>\n",
       "    <tr>\n",
       "      <th>2</th>\n",
       "      <td>Milan</td>\n",
       "      <td>4907000</td>\n",
       "      <td>2800</td>\n",
       "      <td>Y</td>\n",
       "      <td>Y</td>\n",
       "    </tr>\n",
       "    <tr>\n",
       "      <th>3</th>\n",
       "      <td>Barcelona</td>\n",
       "      <td>4588000</td>\n",
       "      <td>4300</td>\n",
       "      <td>Y</td>\n",
       "      <td>Y</td>\n",
       "    </tr>\n",
       "    <tr>\n",
       "      <th>4</th>\n",
       "      <td>Berlin</td>\n",
       "      <td>3972000</td>\n",
       "      <td>2900</td>\n",
       "      <td>Y</td>\n",
       "      <td>Y</td>\n",
       "    </tr>\n",
       "  </tbody>\n",
       "</table>\n",
       "</div>"
      ],
      "text/plain": [
       "   UrbanArea  Population  Density IntlAirport StockExchange\n",
       "0      Paris    11020000     3800           Y             Y\n",
       "1     Madrid     6026000     4600           Y             Y\n",
       "2      Milan     4907000     2800           Y             Y\n",
       "3  Barcelona     4588000     4300           Y             Y\n",
       "4     Berlin     3972000     2900           Y             Y"
      ]
     },
     "execution_count": 8,
     "metadata": {},
     "output_type": "execute_result"
    }
   ],
   "source": [
    "import pandas as pd\n",
    "prelim_df = pd.read_csv('cities_data_prelim.csv')\n",
    "prelim_df.head()"
   ]
  },
  {
   "cell_type": "code",
   "execution_count": 10,
   "id": "minimal-permit",
   "metadata": {},
   "outputs": [
    {
     "data": {
      "text/plain": [
       "(28, 5)"
      ]
     },
     "execution_count": 10,
     "metadata": {},
     "output_type": "execute_result"
    }
   ],
   "source": [
    "prelim_df.shape"
   ]
  },
  {
   "cell_type": "markdown",
   "id": "billion-traffic",
   "metadata": {},
   "source": [
    "Once the disqualified cities are removed, we must then locate and fill in the following to satisfy the economic side of our data requirements:\n",
    "<ul>\n",
    "    <li>Straight line distance to London</li>\n",
    "    <li>Percentage of English speakers, according to <a href='https://ec.europa.eu/commfrontoffice/publicopinion/archives/ebs/ebs_386_en.pdf'>an EU Commission report on second languages</a> - assumed 100% in Ireland as English is official language</li>\n",
    "    <li>Average commercial rental cost, sourced mostly from <a href='https://www.statista.com/statistics/431672/commercial-property-prime-rents-europe/'>this Statista dataset</a> (missing records searched individually)</li>\n",
    "    <li>Average rental cost and income, sourced mostly from <a href='https://www.kaggle.com/stephenofarrell/cost-of-living'>this Kaggle dataset</a> (missing records searched individually at the source in Numbeo)</li>\n",
    "    <li><a href='https://en.wikipedia.org/wiki/List_of_countries_by_Human_Development_Index'>HDI of country</a></li>\n",
    "</ul>\n",
    "\n",
    "For the cultural fit side, we will be extracting venue data from Foursquare for each city on the list, categorising venue types by popularity and appending the most common venue types to our data set for use by the clustering model. In order to prepare for this, we must also fetch coordinates data for our locations so that this can be fed into the API.<br>\n",
    "\n",
    "The result will be a data set that looks like this:        "
   ]
  },
  {
   "cell_type": "code",
   "execution_count": 12,
   "id": "minimal-torture",
   "metadata": {},
   "outputs": [
    {
     "data": {
      "text/html": [
       "<div>\n",
       "<style scoped>\n",
       "    .dataframe tbody tr th:only-of-type {\n",
       "        vertical-align: middle;\n",
       "    }\n",
       "\n",
       "    .dataframe tbody tr th {\n",
       "        vertical-align: top;\n",
       "    }\n",
       "\n",
       "    .dataframe thead th {\n",
       "        text-align: right;\n",
       "    }\n",
       "</style>\n",
       "<table border=\"1\" class=\"dataframe\">\n",
       "  <thead>\n",
       "    <tr style=\"text-align: right;\">\n",
       "      <th></th>\n",
       "      <th>UrbanArea</th>\n",
       "      <th>Population</th>\n",
       "      <th>Density</th>\n",
       "      <th>IntlAirport</th>\n",
       "      <th>StockExchange</th>\n",
       "      <th>DistanceToLdn</th>\n",
       "      <th>Lat</th>\n",
       "      <th>Long</th>\n",
       "      <th>HDI</th>\n",
       "      <th>PctFluentEng</th>\n",
       "      <th>CommRent</th>\n",
       "      <th>EmplRent</th>\n",
       "      <th>Income</th>\n",
       "    </tr>\n",
       "  </thead>\n",
       "  <tbody>\n",
       "    <tr>\n",
       "      <th>0</th>\n",
       "      <td>Paris</td>\n",
       "      <td>11020000</td>\n",
       "      <td>3800</td>\n",
       "      <td>Y</td>\n",
       "      <td>Y</td>\n",
       "      <td>343.88</td>\n",
       "      <td>48.856697</td>\n",
       "      <td>2.351462</td>\n",
       "      <td>0.901</td>\n",
       "      <td>0.39</td>\n",
       "      <td>865.0</td>\n",
       "      <td>1177.51</td>\n",
       "      <td>2215.02</td>\n",
       "    </tr>\n",
       "    <tr>\n",
       "      <th>1</th>\n",
       "      <td>Madrid</td>\n",
       "      <td>6026000</td>\n",
       "      <td>4600</td>\n",
       "      <td>Y</td>\n",
       "      <td>Y</td>\n",
       "      <td>1264.80</td>\n",
       "      <td>40.416705</td>\n",
       "      <td>-3.703582</td>\n",
       "      <td>0.904</td>\n",
       "      <td>0.22</td>\n",
       "      <td>372.0</td>\n",
       "      <td>933.23</td>\n",
       "      <td>1578.77</td>\n",
       "    </tr>\n",
       "    <tr>\n",
       "      <th>2</th>\n",
       "      <td>Milan</td>\n",
       "      <td>4907000</td>\n",
       "      <td>2800</td>\n",
       "      <td>Y</td>\n",
       "      <td>Y</td>\n",
       "      <td>960.25</td>\n",
       "      <td>45.466800</td>\n",
       "      <td>9.190500</td>\n",
       "      <td>0.892</td>\n",
       "      <td>0.34</td>\n",
       "      <td>600.0</td>\n",
       "      <td>1099.67</td>\n",
       "      <td>1601.00</td>\n",
       "    </tr>\n",
       "    <tr>\n",
       "      <th>3</th>\n",
       "      <td>Barcelona</td>\n",
       "      <td>4588000</td>\n",
       "      <td>4300</td>\n",
       "      <td>Y</td>\n",
       "      <td>Y</td>\n",
       "      <td>1140.65</td>\n",
       "      <td>41.382894</td>\n",
       "      <td>2.177432</td>\n",
       "      <td>0.904</td>\n",
       "      <td>0.22</td>\n",
       "      <td>336.0</td>\n",
       "      <td>950.28</td>\n",
       "      <td>1444.48</td>\n",
       "    </tr>\n",
       "    <tr>\n",
       "      <th>4</th>\n",
       "      <td>Berlin</td>\n",
       "      <td>3972000</td>\n",
       "      <td>2900</td>\n",
       "      <td>Y</td>\n",
       "      <td>Y</td>\n",
       "      <td>931.48</td>\n",
       "      <td>52.517037</td>\n",
       "      <td>13.388860</td>\n",
       "      <td>0.947</td>\n",
       "      <td>0.56</td>\n",
       "      <td>468.0</td>\n",
       "      <td>896.50</td>\n",
       "      <td>2289.46</td>\n",
       "    </tr>\n",
       "  </tbody>\n",
       "</table>\n",
       "</div>"
      ],
      "text/plain": [
       "   UrbanArea  Population  Density IntlAirport StockExchange  DistanceToLdn  \\\n",
       "0      Paris    11020000     3800           Y             Y         343.88   \n",
       "1     Madrid     6026000     4600           Y             Y        1264.80   \n",
       "2      Milan     4907000     2800           Y             Y         960.25   \n",
       "3  Barcelona     4588000     4300           Y             Y        1140.65   \n",
       "4     Berlin     3972000     2900           Y             Y         931.48   \n",
       "\n",
       "         Lat       Long    HDI  PctFluentEng  CommRent  EmplRent   Income  \n",
       "0  48.856697   2.351462  0.901          0.39     865.0   1177.51  2215.02  \n",
       "1  40.416705  -3.703582  0.904          0.22     372.0    933.23  1578.77  \n",
       "2  45.466800   9.190500  0.892          0.34     600.0   1099.67  1601.00  \n",
       "3  41.382894   2.177432  0.904          0.22     336.0    950.28  1444.48  \n",
       "4  52.517037  13.388860  0.947          0.56     468.0    896.50  2289.46  "
      ]
     },
     "execution_count": 12,
     "metadata": {},
     "output_type": "execute_result"
    }
   ],
   "source": [
    "cities_df = pd.read_csv('cities_data.csv')\n",
    "cities_df.head()"
   ]
  }
 ],
 "metadata": {
  "kernelspec": {
   "display_name": "Python 3",
   "language": "python",
   "name": "python3"
  },
  "language_info": {
   "codemirror_mode": {
    "name": "ipython",
    "version": 3
   },
   "file_extension": ".py",
   "mimetype": "text/x-python",
   "name": "python",
   "nbconvert_exporter": "python",
   "pygments_lexer": "ipython3",
   "version": "3.9.1"
  }
 },
 "nbformat": 4,
 "nbformat_minor": 5
}
